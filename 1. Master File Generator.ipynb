{
 "cells": [
  {
   "cell_type": "code",
   "execution_count": 2,
   "id": "163af53f",
   "metadata": {},
   "outputs": [],
   "source": [
    "import pandas as pd\n",
    "import os\n",
    "\n",
    "from os import walk\n",
    "\n",
    "filenames = next(walk('/Users/thomasvanhoorn/Documents/THESIS 2/DATA/MASTER INDEX FILES/archive'), (None, None, []))[2]\n",
    "\n",
    "filenames.sort()\n",
    "\n",
    "filenames = filenames[8:len(filenames)-1]"
   ]
  },
  {
   "cell_type": "code",
   "execution_count": 4,
   "id": "d053fa61",
   "metadata": {},
   "outputs": [],
   "source": [
    "combined_years = pd.read_csv('/Users/thomasvanhoorn/Documents/THESIS 2/DATA/MASTER INDEX FILES/archive/1996.QTR1.csv')\n",
    "combined_years = combined_years[combined_years.form.isin(['10-K','10-Q'])]\n",
    "\n",
    "with open('/Users/thomasvanhoorn/Documents/THESIS 2/DATA/CONSTITUENT TICKER TEXT FILES/1996.txt') as f:\n",
    "    lines = f.read().splitlines()\n",
    "\n",
    "combined_years = combined_years[combined_years.form.isin([lines])]\n",
    "\n",
    "combined_years['Y_Q'] = str('1996.QTR1')\n",
    "\n",
    "for i in filenames:\n",
    "    x = '/Users/thomasvanhoorn/Documents/THESIS 2/DATA/MASTER INDEX FILES/archive/' + str(i)\n",
    "    \n",
    "    with open('/Users/thomasvanhoorn/Documents/THESIS 2/DATA/CONSTITUENT TICKER TEXT FILES/' + str(i[0:4])+'.txt') as f:\n",
    "        lines = f.read().splitlines()\n",
    "    \n",
    "    df = pd.read_csv(x)\n",
    "    df = df[df.form.isin(['10-K','10-Q'])]\n",
    "    df = df[df.symbol.isin(lines)]\n",
    "    df['Y_Q'] = str(i[0:9])\n",
    "    combined_years = pd.concat([combined_years,df])"
   ]
  },
  {
   "cell_type": "code",
   "execution_count": 7,
   "id": "41ccb49b",
   "metadata": {},
   "outputs": [],
   "source": [
    "combined_years = combined_years.reset_index(drop=True)"
   ]
  },
  {
   "cell_type": "code",
   "execution_count": 8,
   "id": "886af7bf",
   "metadata": {},
   "outputs": [],
   "source": [
    "combined_years.to_csv(r'/Users/thomasvanhoorn/Documents/THESIS 2/DATA/MASTER INDEX FILES/total.csv', index=False)"
   ]
  },
  {
   "cell_type": "code",
   "execution_count": null,
   "id": "9abb1c8d",
   "metadata": {},
   "outputs": [],
   "source": []
  },
  {
   "cell_type": "code",
   "execution_count": null,
   "id": "613d422c",
   "metadata": {},
   "outputs": [],
   "source": []
  }
 ],
 "metadata": {
  "kernelspec": {
   "display_name": "Python 3 (ipykernel)",
   "language": "python",
   "name": "python3"
  },
  "language_info": {
   "codemirror_mode": {
    "name": "ipython",
    "version": 3
   },
   "file_extension": ".py",
   "mimetype": "text/x-python",
   "name": "python",
   "nbconvert_exporter": "python",
   "pygments_lexer": "ipython3",
   "version": "3.8.8"
  }
 },
 "nbformat": 4,
 "nbformat_minor": 5
}
