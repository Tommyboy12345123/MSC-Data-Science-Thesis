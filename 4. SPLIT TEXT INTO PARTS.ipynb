{
 "cells": [
  {
   "cell_type": "code",
   "execution_count": 1,
   "id": "ae979155-ec67-443c-bb55-b7889a698415",
   "metadata": {},
   "outputs": [],
   "source": [
    "import pandas as pd\n",
    "import numpy as np\n",
    "import os\n",
    "import json\n",
    "from bs4 import BeautifulSoup\n",
    "import requests\n",
    "from tqdm import tqdm\n",
    "import math\n",
    "import re\n",
    "import time\n",
    "import os, psutil\n",
    "\n",
    "df = pd.read_csv(r\"E:\\\\THESIS NEW\\\\DATA\\\\2. PREPARE MASTERFILE AND FACTOR FILE\\\\final_index_file.csv\")"
   ]
  },
  {
   "cell_type": "code",
   "execution_count": null,
   "id": "b882daee",
   "metadata": {},
   "outputs": [],
   "source": []
  },
  {
   "cell_type": "code",
   "execution_count": 2,
   "id": "c9a45b36",
   "metadata": {},
   "outputs": [],
   "source": [
    "df['To_delete'] = df['filing_url'].apply(lambda x: x.split('/')[8])\n",
    "\n",
    "df['Lookup_Value'] = df['To_delete'].apply(lambda x: x[0:20])\n",
    "\n",
    "df = df.drop('To_delete',axis=1)\n",
    "\n",
    "df['Year'] = df['Y_Q'].apply(lambda x: x[0:4])\n",
    "\n",
    "df['Quarter'] = df['Y_Q'].apply(lambda x: x[-1])\n",
    "\n",
    "df['text'] = np.nan\n",
    "\n",
    "df = df.rename(columns = {'form':'form_type'})\n",
    "\n",
    "df_10K = df.loc[df['form_type'] == '10-K']\n",
    "\n",
    "df_10Q = df.loc[df['form_type'] == '10-Q']\n",
    "\n",
    "df_10K.to_csv(\"D:\\\\THOMAS THESIS\\\\DATA\\\\10KQ SPLIT\\\\10K.csv\")  \n",
    "df_10Q.to_csv(\"D:\\\\THOMAS THESIS\\\\DATA\\\\10KQ SPLIT\\\\10Q.csv\")  "
   ]
  },
  {
   "cell_type": "code",
   "execution_count": 3,
   "id": "6576920a-74e7-4620-a8ff-231c3fc0d33b",
   "metadata": {},
   "outputs": [],
   "source": [
    "df_10K = None\n",
    "\n",
    "df = df_10Q"
   ]
  },
  {
   "cell_type": "code",
   "execution_count": 6,
   "id": "3faeb688",
   "metadata": {},
   "outputs": [],
   "source": []
  },
  {
   "cell_type": "code",
   "execution_count": 7,
   "id": "42916889",
   "metadata": {},
   "outputs": [],
   "source": [
    "df = df.reset_index(drop=True)"
   ]
  },
  {
   "cell_type": "code",
   "execution_count": 8,
   "id": "2555cda2",
   "metadata": {},
   "outputs": [
    {
     "name": "stderr",
     "output_type": "stream",
     "text": [
      "  0%|          | 0/28484 [00:00<?, ?it/s]"
     ]
    },
    {
     "name": "stdout",
     "output_type": "stream",
     "text": [
      "i = 0\n"
     ]
    },
    {
     "name": "stderr",
     "output_type": "stream",
     "text": [
      "  4%|▎         | 1001/28484 [01:48<56:09,  8.16it/s] "
     ]
    },
    {
     "name": "stdout",
     "output_type": "stream",
     "text": [
      "i = 1000\n"
     ]
    },
    {
     "name": "stderr",
     "output_type": "stream",
     "text": [
      "  5%|▌         | 1497/28484 [02:50<41:14, 10.91it/s]  "
     ]
    },
    {
     "name": "stdout",
     "output_type": "stream",
     "text": [
      "RED_FLAG 1494\n"
     ]
    },
    {
     "name": "stderr",
     "output_type": "stream",
     "text": [
      "  7%|▋         | 1945/28484 [03:35<38:23, 11.52it/s]  "
     ]
    },
    {
     "name": "stdout",
     "output_type": "stream",
     "text": [
      "RED_FLAG 1943\n"
     ]
    },
    {
     "name": "stderr",
     "output_type": "stream",
     "text": [
      "  7%|▋         | 2001/28484 [03:41<46:52,  9.42it/s]"
     ]
    },
    {
     "name": "stdout",
     "output_type": "stream",
     "text": [
      "i = 2000\n"
     ]
    },
    {
     "name": "stderr",
     "output_type": "stream",
     "text": [
      "  8%|▊         | 2389/28484 [04:30<34:10, 12.73it/s]  "
     ]
    },
    {
     "name": "stdout",
     "output_type": "stream",
     "text": [
      "RED_FLAG 2386\n"
     ]
    },
    {
     "name": "stderr",
     "output_type": "stream",
     "text": [
      "  8%|▊         | 2401/28484 [04:31<34:56, 12.44it/s]"
     ]
    },
    {
     "name": "stdout",
     "output_type": "stream",
     "text": [
      "RED_FLAG 2398\n"
     ]
    },
    {
     "name": "stderr",
     "output_type": "stream",
     "text": [
      "  9%|▊         | 2477/28484 [04:42<40:20, 10.75it/s]  "
     ]
    },
    {
     "name": "stdout",
     "output_type": "stream",
     "text": [
      "RED_FLAG 2475\n"
     ]
    },
    {
     "name": "stderr",
     "output_type": "stream",
     "text": [
      "  9%|▉         | 2554/28484 [04:51<31:30, 13.72it/s]  "
     ]
    },
    {
     "name": "stdout",
     "output_type": "stream",
     "text": [
      "RED_FLAG 2551\n"
     ]
    },
    {
     "name": "stderr",
     "output_type": "stream",
     "text": [
      " 10%|▉         | 2808/28484 [05:19<38:14, 11.19it/s]  "
     ]
    },
    {
     "name": "stdout",
     "output_type": "stream",
     "text": [
      "RED_FLAG 2805\n"
     ]
    },
    {
     "name": "stderr",
     "output_type": "stream",
     "text": [
      " 11%|█         | 3001/28484 [05:43<39:02, 10.88it/s]  "
     ]
    },
    {
     "name": "stdout",
     "output_type": "stream",
     "text": [
      "i = 3000\n"
     ]
    },
    {
     "name": "stderr",
     "output_type": "stream",
     "text": [
      " 14%|█▍        | 4001/28484 [07:42<39:23, 10.36it/s]  "
     ]
    },
    {
     "name": "stdout",
     "output_type": "stream",
     "text": [
      "i = 4000\n"
     ]
    },
    {
     "name": "stderr",
     "output_type": "stream",
     "text": [
      " 18%|█▊        | 5001/28484 [09:19<29:15, 13.38it/s]  "
     ]
    },
    {
     "name": "stdout",
     "output_type": "stream",
     "text": [
      "i = 5000\n"
     ]
    },
    {
     "name": "stderr",
     "output_type": "stream",
     "text": [
      " 19%|█▉        | 5490/28484 [10:10<32:41, 11.72it/s]  "
     ]
    },
    {
     "name": "stdout",
     "output_type": "stream",
     "text": [
      "RED_FLAG 5487\n"
     ]
    },
    {
     "name": "stderr",
     "output_type": "stream",
     "text": [
      " 21%|██        | 6001/28484 [11:02<39:27,  9.50it/s]  "
     ]
    },
    {
     "name": "stdout",
     "output_type": "stream",
     "text": [
      "i = 6000\n"
     ]
    },
    {
     "name": "stderr",
     "output_type": "stream",
     "text": [
      " 23%|██▎       | 6639/28484 [12:09<27:11, 13.39it/s]  "
     ]
    },
    {
     "name": "stdout",
     "output_type": "stream",
     "text": [
      "RED_FLAG 6636\n"
     ]
    },
    {
     "name": "stderr",
     "output_type": "stream",
     "text": [
      " 24%|██▍       | 6850/28484 [12:29<28:07, 12.82it/s]  "
     ]
    },
    {
     "name": "stdout",
     "output_type": "stream",
     "text": [
      "RED_FLAG 6847\n"
     ]
    },
    {
     "name": "stderr",
     "output_type": "stream",
     "text": [
      " 25%|██▍       | 7001/28484 [12:44<38:35,  9.28it/s]"
     ]
    },
    {
     "name": "stdout",
     "output_type": "stream",
     "text": [
      "i = 7000\n"
     ]
    },
    {
     "name": "stderr",
     "output_type": "stream",
     "text": [
      " 28%|██▊       | 8000/28484 [14:23<34:12,  9.98it/s]  "
     ]
    },
    {
     "name": "stdout",
     "output_type": "stream",
     "text": [
      "i = 8000\n"
     ]
    },
    {
     "name": "stderr",
     "output_type": "stream",
     "text": [
      " 29%|██▊       | 8177/28484 [14:39<26:36, 12.72it/s]"
     ]
    },
    {
     "name": "stdout",
     "output_type": "stream",
     "text": [
      "RED_FLAG 8175\n"
     ]
    },
    {
     "name": "stderr",
     "output_type": "stream",
     "text": [
      " 32%|███▏      | 9001/28484 [15:59<30:56, 10.49it/s]  "
     ]
    },
    {
     "name": "stdout",
     "output_type": "stream",
     "text": [
      "i = 9000\n"
     ]
    },
    {
     "name": "stderr",
     "output_type": "stream",
     "text": [
      " 35%|███▌      | 10000/28484 [17:34<30:01, 10.26it/s] "
     ]
    },
    {
     "name": "stdout",
     "output_type": "stream",
     "text": [
      "i = 10000\n"
     ]
    },
    {
     "name": "stderr",
     "output_type": "stream",
     "text": [
      " 39%|███▊      | 11001/28484 [19:06<28:12, 10.33it/s]  "
     ]
    },
    {
     "name": "stdout",
     "output_type": "stream",
     "text": [
      "i = 11000\n"
     ]
    },
    {
     "name": "stderr",
     "output_type": "stream",
     "text": [
      " 42%|████▏     | 12001/28484 [20:39<46:46,  5.87it/s]  "
     ]
    },
    {
     "name": "stdout",
     "output_type": "stream",
     "text": [
      "i = 12000\n"
     ]
    },
    {
     "name": "stderr",
     "output_type": "stream",
     "text": [
      " 44%|████▍     | 12486/28484 [21:26<20:57, 12.72it/s]  "
     ]
    },
    {
     "name": "stdout",
     "output_type": "stream",
     "text": [
      "RED_FLAG 12483\n"
     ]
    },
    {
     "name": "stderr",
     "output_type": "stream",
     "text": [
      " 46%|████▌     | 13001/28484 [22:18<24:05, 10.71it/s]  "
     ]
    },
    {
     "name": "stdout",
     "output_type": "stream",
     "text": [
      "i = 13000\n"
     ]
    },
    {
     "name": "stderr",
     "output_type": "stream",
     "text": [
      " 48%|████▊     | 13803/28484 [23:38<18:29, 13.23it/s]  "
     ]
    },
    {
     "name": "stdout",
     "output_type": "stream",
     "text": [
      "RED_FLAG 13801\n"
     ]
    },
    {
     "name": "stderr",
     "output_type": "stream",
     "text": [
      " 49%|████▉     | 13932/28484 [23:50<17:10, 14.12it/s]"
     ]
    },
    {
     "name": "stdout",
     "output_type": "stream",
     "text": [
      "RED_FLAG 13930\n"
     ]
    },
    {
     "name": "stderr",
     "output_type": "stream",
     "text": [
      " 49%|████▉     | 14001/28484 [23:56<22:33, 10.70it/s]"
     ]
    },
    {
     "name": "stdout",
     "output_type": "stream",
     "text": [
      "i = 14000\n"
     ]
    },
    {
     "name": "stderr",
     "output_type": "stream",
     "text": [
      " 53%|█████▎    | 15002/28484 [25:33<16:47, 13.38it/s]  "
     ]
    },
    {
     "name": "stdout",
     "output_type": "stream",
     "text": [
      "i = 15000\n"
     ]
    },
    {
     "name": "stderr",
     "output_type": "stream",
     "text": [
      " 53%|█████▎    | 15006/28484 [25:33<16:20, 13.74it/s]"
     ]
    },
    {
     "name": "stdout",
     "output_type": "stream",
     "text": [
      "RED_FLAG 15004\n"
     ]
    },
    {
     "name": "stderr",
     "output_type": "stream",
     "text": [
      " 53%|█████▎    | 15078/28484 [25:40<15:02, 14.85it/s]"
     ]
    },
    {
     "name": "stdout",
     "output_type": "stream",
     "text": [
      "RED_FLAG 15075\n"
     ]
    },
    {
     "name": "stderr",
     "output_type": "stream",
     "text": [
      " 56%|█████▌    | 16001/28484 [27:09<19:03, 10.92it/s]  "
     ]
    },
    {
     "name": "stdout",
     "output_type": "stream",
     "text": [
      "i = 16000\n"
     ]
    },
    {
     "name": "stderr",
     "output_type": "stream",
     "text": [
      " 57%|█████▋    | 16197/28484 [27:28<15:54, 12.87it/s]"
     ]
    },
    {
     "name": "stdout",
     "output_type": "stream",
     "text": [
      "RED_FLAG 16195\n"
     ]
    },
    {
     "name": "stderr",
     "output_type": "stream",
     "text": [
      " 60%|█████▉    | 17001/28484 [28:45<18:54, 10.12it/s]"
     ]
    },
    {
     "name": "stdout",
     "output_type": "stream",
     "text": [
      "i = 17000\n"
     ]
    },
    {
     "name": "stderr",
     "output_type": "stream",
     "text": [
      " 62%|██████▏   | 17518/28484 [29:32<12:23, 14.75it/s]"
     ]
    },
    {
     "name": "stdout",
     "output_type": "stream",
     "text": [
      "RED_FLAG 17516\n"
     ]
    },
    {
     "name": "stderr",
     "output_type": "stream",
     "text": [
      " 62%|██████▏   | 17570/28484 [29:36<14:44, 12.34it/s]"
     ]
    },
    {
     "name": "stdout",
     "output_type": "stream",
     "text": [
      "RED_FLAG 17568\n"
     ]
    },
    {
     "name": "stderr",
     "output_type": "stream",
     "text": [
      " 62%|██████▏   | 17742/28484 [29:53<13:53, 12.88it/s]"
     ]
    },
    {
     "name": "stdout",
     "output_type": "stream",
     "text": [
      "RED_FLAG 17740\n"
     ]
    },
    {
     "name": "stderr",
     "output_type": "stream",
     "text": [
      " 63%|██████▎   | 17953/28484 [30:13<16:20, 10.74it/s]"
     ]
    },
    {
     "name": "stdout",
     "output_type": "stream",
     "text": [
      "RED_FLAG 17950\n"
     ]
    },
    {
     "name": "stderr",
     "output_type": "stream",
     "text": [
      " 63%|██████▎   | 17965/28484 [30:14<12:40, 13.83it/s]"
     ]
    },
    {
     "name": "stdout",
     "output_type": "stream",
     "text": [
      "RED_FLAG 17962\n"
     ]
    },
    {
     "name": "stderr",
     "output_type": "stream",
     "text": [
      " 63%|██████▎   | 18001/28484 [30:17<15:55, 10.97it/s]"
     ]
    },
    {
     "name": "stdout",
     "output_type": "stream",
     "text": [
      "i = 18000\n"
     ]
    },
    {
     "name": "stderr",
     "output_type": "stream",
     "text": [
      " 64%|██████▍   | 18340/28484 [30:50<17:01,  9.93it/s]"
     ]
    },
    {
     "name": "stdout",
     "output_type": "stream",
     "text": [
      "RED_FLAG 18338\n"
     ]
    },
    {
     "name": "stderr",
     "output_type": "stream",
     "text": [
      " 67%|██████▋   | 19001/28484 [31:55<14:09, 11.17it/s]"
     ]
    },
    {
     "name": "stdout",
     "output_type": "stream",
     "text": [
      "i = 19000\n"
     ]
    },
    {
     "name": "stderr",
     "output_type": "stream",
     "text": [
      " 67%|██████▋   | 19198/28484 [32:13<09:55, 15.59it/s]"
     ]
    },
    {
     "name": "stdout",
     "output_type": "stream",
     "text": [
      "RED_FLAG 19196\n"
     ]
    },
    {
     "name": "stderr",
     "output_type": "stream",
     "text": [
      " 70%|███████   | 20001/28484 [33:28<13:00, 10.87it/s]"
     ]
    },
    {
     "name": "stdout",
     "output_type": "stream",
     "text": [
      "i = 20000\n"
     ]
    },
    {
     "name": "stderr",
     "output_type": "stream",
     "text": [
      " 71%|███████   | 20281/28484 [33:54<12:43, 10.74it/s]"
     ]
    },
    {
     "name": "stdout",
     "output_type": "stream",
     "text": [
      "RED_FLAG 20279\n"
     ]
    },
    {
     "name": "stderr",
     "output_type": "stream",
     "text": [
      " 72%|███████▏  | 20478/28484 [34:13<10:52, 12.27it/s]"
     ]
    },
    {
     "name": "stdout",
     "output_type": "stream",
     "text": [
      "RED_FLAG 20476\n"
     ]
    },
    {
     "name": "stderr",
     "output_type": "stream",
     "text": [
      " 72%|███████▏  | 20490/28484 [34:14<09:51, 13.52it/s]"
     ]
    },
    {
     "name": "stdout",
     "output_type": "stream",
     "text": [
      "RED_FLAG 20488\n"
     ]
    },
    {
     "name": "stderr",
     "output_type": "stream",
     "text": [
      " 72%|███████▏  | 20614/28484 [34:25<09:23, 13.97it/s]"
     ]
    },
    {
     "name": "stdout",
     "output_type": "stream",
     "text": [
      "RED_FLAG 20612\n"
     ]
    },
    {
     "name": "stderr",
     "output_type": "stream",
     "text": [
      " 74%|███████▎  | 21001/28484 [35:02<13:07,  9.51it/s]"
     ]
    },
    {
     "name": "stdout",
     "output_type": "stream",
     "text": [
      "i = 21000\n"
     ]
    },
    {
     "name": "stderr",
     "output_type": "stream",
     "text": [
      " 75%|███████▌  | 21382/28484 [35:36<08:55, 13.26it/s]"
     ]
    },
    {
     "name": "stdout",
     "output_type": "stream",
     "text": [
      "RED_FLAG 21380\n"
     ]
    },
    {
     "name": "stderr",
     "output_type": "stream",
     "text": [
      " 76%|███████▌  | 21710/28484 [36:07<08:39, 13.04it/s]"
     ]
    },
    {
     "name": "stdout",
     "output_type": "stream",
     "text": [
      "RED_FLAG 21707\n"
     ]
    },
    {
     "name": "stderr",
     "output_type": "stream",
     "text": [
      " 77%|███████▋  | 22001/28484 [36:34<09:26, 11.45it/s]"
     ]
    },
    {
     "name": "stdout",
     "output_type": "stream",
     "text": [
      "i = 22000\n"
     ]
    },
    {
     "name": "stderr",
     "output_type": "stream",
     "text": [
      " 78%|███████▊  | 22231/28484 [36:56<08:26, 12.34it/s]"
     ]
    },
    {
     "name": "stdout",
     "output_type": "stream",
     "text": [
      "RED_FLAG 22229\n"
     ]
    },
    {
     "name": "stderr",
     "output_type": "stream",
     "text": [
      " 79%|███████▉  | 22500/28484 [37:20<08:59, 11.09it/s]"
     ]
    },
    {
     "name": "stdout",
     "output_type": "stream",
     "text": [
      "RED_FLAG 22498\n"
     ]
    },
    {
     "name": "stderr",
     "output_type": "stream",
     "text": [
      " 80%|███████▉  | 22709/28484 [37:39<07:56, 12.11it/s]"
     ]
    },
    {
     "name": "stdout",
     "output_type": "stream",
     "text": [
      "RED_FLAG 22707\n"
     ]
    },
    {
     "name": "stderr",
     "output_type": "stream",
     "text": [
      " 80%|████████  | 22847/28484 [37:51<07:35, 12.38it/s]"
     ]
    },
    {
     "name": "stdout",
     "output_type": "stream",
     "text": [
      "RED_FLAG 22844\n"
     ]
    },
    {
     "name": "stderr",
     "output_type": "stream",
     "text": [
      " 81%|████████  | 23000/28484 [38:04<09:15,  9.88it/s]"
     ]
    },
    {
     "name": "stdout",
     "output_type": "stream",
     "text": [
      "i = 23000\n"
     ]
    },
    {
     "name": "stderr",
     "output_type": "stream",
     "text": [
      " 81%|████████  | 23139/28484 [38:17<06:36, 13.47it/s]"
     ]
    },
    {
     "name": "stdout",
     "output_type": "stream",
     "text": [
      "RED_FLAG 23137\n"
     ]
    },
    {
     "name": "stderr",
     "output_type": "stream",
     "text": [
      " 83%|████████▎ | 23513/28484 [38:51<06:56, 11.94it/s]"
     ]
    },
    {
     "name": "stdout",
     "output_type": "stream",
     "text": [
      "RED_FLAG 23511\n"
     ]
    },
    {
     "name": "stderr",
     "output_type": "stream",
     "text": [
      " 83%|████████▎ | 23567/28484 [38:55<05:55, 13.84it/s]"
     ]
    },
    {
     "name": "stdout",
     "output_type": "stream",
     "text": [
      "RED_FLAG 23565\n"
     ]
    },
    {
     "name": "stderr",
     "output_type": "stream",
     "text": [
      " 84%|████████▎ | 23814/28484 [39:18<05:43, 13.59it/s]"
     ]
    },
    {
     "name": "stdout",
     "output_type": "stream",
     "text": [
      "RED_FLAG 23812\n"
     ]
    },
    {
     "name": "stderr",
     "output_type": "stream",
     "text": [
      " 84%|████████▍ | 24002/28484 [39:34<05:46, 12.94it/s]"
     ]
    },
    {
     "name": "stdout",
     "output_type": "stream",
     "text": [
      "i = 24000\n"
     ]
    },
    {
     "name": "stderr",
     "output_type": "stream",
     "text": [
      " 86%|████████▌ | 24552/28484 [40:24<05:19, 12.30it/s]"
     ]
    },
    {
     "name": "stdout",
     "output_type": "stream",
     "text": [
      "RED_FLAG 24550\n"
     ]
    },
    {
     "name": "stderr",
     "output_type": "stream",
     "text": [
      " 88%|████████▊ | 25001/28484 [41:06<04:38, 12.49it/s]"
     ]
    },
    {
     "name": "stdout",
     "output_type": "stream",
     "text": [
      "i = 25000\n"
     ]
    },
    {
     "name": "stderr",
     "output_type": "stream",
     "text": [
      " 90%|█████████ | 25766/28484 [42:14<03:35, 12.63it/s]"
     ]
    },
    {
     "name": "stdout",
     "output_type": "stream",
     "text": [
      "RED_FLAG 25764\n"
     ]
    },
    {
     "name": "stderr",
     "output_type": "stream",
     "text": [
      " 91%|█████████ | 25874/28484 [42:24<03:50, 11.31it/s]"
     ]
    },
    {
     "name": "stdout",
     "output_type": "stream",
     "text": [
      "RED_FLAG 25872\n"
     ]
    },
    {
     "name": "stderr",
     "output_type": "stream",
     "text": [
      " 91%|█████████▏| 26002/28484 [42:35<03:44, 11.06it/s]"
     ]
    },
    {
     "name": "stdout",
     "output_type": "stream",
     "text": [
      "i = 26000\n"
     ]
    },
    {
     "name": "stderr",
     "output_type": "stream",
     "text": [
      " 92%|█████████▏| 26279/28484 [43:00<02:51, 12.83it/s]"
     ]
    },
    {
     "name": "stdout",
     "output_type": "stream",
     "text": [
      "RED_FLAG 26277\n"
     ]
    },
    {
     "name": "stderr",
     "output_type": "stream",
     "text": [
      " 93%|█████████▎| 26357/28484 [43:06<03:08, 11.28it/s]"
     ]
    },
    {
     "name": "stdout",
     "output_type": "stream",
     "text": [
      "RED_FLAG 26355\n"
     ]
    },
    {
     "name": "stderr",
     "output_type": "stream",
     "text": [
      " 94%|█████████▍| 26818/28484 [43:46<02:12, 12.56it/s]"
     ]
    },
    {
     "name": "stdout",
     "output_type": "stream",
     "text": [
      "RED_FLAG 26816\n"
     ]
    },
    {
     "name": "stderr",
     "output_type": "stream",
     "text": [
      " 94%|█████████▍| 26856/28484 [43:49<02:14, 12.13it/s]"
     ]
    },
    {
     "name": "stdout",
     "output_type": "stream",
     "text": [
      "RED_FLAG 26854\n"
     ]
    },
    {
     "name": "stderr",
     "output_type": "stream",
     "text": [
      " 95%|█████████▍| 27001/28484 [44:02<02:30,  9.86it/s]"
     ]
    },
    {
     "name": "stdout",
     "output_type": "stream",
     "text": [
      "i = 27000\n"
     ]
    },
    {
     "name": "stderr",
     "output_type": "stream",
     "text": [
      " 98%|█████████▊| 28001/28484 [45:25<00:38, 12.49it/s]"
     ]
    },
    {
     "name": "stdout",
     "output_type": "stream",
     "text": [
      "i = 28000\n"
     ]
    },
    {
     "name": "stderr",
     "output_type": "stream",
     "text": [
      "100%|██████████| 28484/28484 [46:04<00:00, 10.30it/s]\n"
     ]
    }
   ],
   "source": [
    "dictio = {}\n",
    "\n",
    "def remove_html_tags(text):\n",
    "    \"\"\"Remove html tags from a string\"\"\"\n",
    "    import re\n",
    "    clean = re.compile('<.*?>')\n",
    "    return re.sub(clean, '', text)\n",
    "\n",
    "for i in tqdm(range(len(df))):\n",
    "    \n",
    "    if i % 1000 == 0: \n",
    "        print('i = {}'.format(i))\n",
    "        \n",
    "    if df['report_url'][i] in dictio:\n",
    "        math.isnan(df['text'][i])\n",
    "        df = df.drop(i)\n",
    "        \n",
    "        continue\n",
    "        \n",
    "    dictio[df['report_url'][i]] = i\n",
    "    \n",
    "    os.chdir(\"D:\\\\THOMAS THESIS\\\\DATA\\\\10KQ PER YEAR\\\\\" + str(df['Year'][i]) + '\\\\' + 'QTR' + str(df['Quarter'][i]))\n",
    "    y = os.listdir()\n",
    "    u = df['cik'][i]\n",
    "    u2 = '_' + str(u) + '_'\n",
    "    z = [s for s in y if df['Lookup_Value'][i] in s]\n",
    "    \n",
    "    if z == []:\n",
    "        dictio[df['report_url'][i]] = 'NA'\n",
    "        print('RED_FLAG', i)\n",
    "    else:\n",
    "    \n",
    "        res = [j for j in z if str(u2) in j]\n",
    "    \n",
    "        res2 = str(res).strip(\"'][\")\n",
    "    \n",
    "        x = \"D:\\\\THOMAS THESIS\\\\DATA\\\\10KQ PER YEAR\\\\\" + str(df['Year'][i]) + '\\\\' + 'QTR' + str(df['Quarter'][i]) + '\\\\' + str(res2)\n",
    "    \n",
    "        #with open(x) as f:\n",
    "            #contents = f.readlines()\n",
    "            \n",
    "        with open(x, 'r') as f:\n",
    "            text = f.read()\n",
    "        \n",
    "        soup = BeautifulSoup(text, \"html.parser\")\n",
    "\n",
    "        soup.find('header').decompose()\n",
    "\n",
    "        y = remove_html_tags(soup.get_text())\n",
    "        \n",
    "        y = re.sub(r\"\\.+\", '.', y)\n",
    "\n",
    "        y = re.sub(r\"\\-+\", '-', y)\n",
    "\n",
    "        y = re.sub(r\"\\=+\", '=', y)\n",
    "        \n",
    "        df.loc[i,'text'] = y"
   ]
  },
  {
   "cell_type": "code",
   "execution_count": null,
   "id": "84ddc508",
   "metadata": {},
   "outputs": [],
   "source": []
  },
  {
   "cell_type": "code",
   "execution_count": 9,
   "id": "57b9af1f-1ccf-4f2e-bdd1-c44670d540ce",
   "metadata": {},
   "outputs": [],
   "source": [
    "def extract_items(part_header, part_text, form_type):\n",
    "    \"\"\"Extracts the item header and its corresponding text for every item within the plain text of a \"part\" of a form.\n",
    "    \n",
    "    :type part_header: str\n",
    "    :param part_header: The header of a \"part\" of a form (e.g. Part III)\n",
    "    \n",
    "    :type part_text: str\n",
    "    :param part_text: The plain text of a \"part\" of a form (e.g. Part III). In the case of 10-K and 8-K forms, the \"part\" is the whole form.\n",
    "    \n",
    "    :type form_type: str\n",
    "    :param form_type: The form type (e.g. 10-K, 10-Q, 8-K)\n",
    "\n",
    "    :rtype: Iterator[(str, str, str)]\n",
    "    :returns: An iterator over tuples of the form (part_header, item_header, text) \n",
    "        where \"item_header\" is the item header and \"text\" is the corresponding text\n",
    "        for each item in the \"part\". part_header is included to differentiate \n",
    "        between portions of a filing that have the same item number but are in different parts.\n",
    "    \"\"\"\n",
    "    if form_type == \"10-K\" or form_type == \"10-Q\":\n",
    "        pattern = '(?P<header>(\\n\\n(ITEM|Item) \\d+[A-Z]*.*?)\\n\\n)(?P<text>.*?)(?=(\\n\\n(ITEM|Item) \\d+[A-Z]*.*?)\\n\\n|$)'\n",
    "    elif form_type == \"8-K\":\n",
    "        pattern = '(?P<header>\\n\\n(ITEM|Item) \\d+\\.\\d+\\.*)(?P<text>.*?)(?=((\\n\\n(ITEM|Item) \\d+\\.\\d+.*?)\\n\\n|$))'\n",
    "    return ((part_header, _.group('header').strip(), _.group('text').strip()) for _ in re.finditer(pattern, part_text, re.DOTALL))\n",
    "\n",
    "def extract_parts(form_text, form_type):\n",
    "    \"\"\"Extracts every part from form plain text, where a \"part\" is defined\n",
    "    specifically as a portion in the form starting with \"PART (some roman numeral)\".\n",
    "    \n",
    "    :type form_text: str\n",
    "    :param form_text: The form plain text.\n",
    "    \n",
    "    :type form_type: str\n",
    "    :param form_type: The form type (e.g. 10-K, 10-Q, 8-K)\n",
    "    \n",
    "    :rtype: Iterator[(str, str)]\n",
    "    :returns: An iterator over the header and text for each part extracted from the form plain text.\n",
    "        (e.g. for 10-K forms, we iterate through Part I through Part IV)\n",
    "    \"\"\"\n",
    "    pattern = '((^PART|^Part|\\n\\nPART|\\n\\nPart) [IVXLCDM]+).*?(\\n\\n.*?)(?=\\n\\n(PART|Part) [IVXLCDM]+.*?\\n\\n|$)'\n",
    "    return ((_.group(1).strip(), _.group(3)) for _ in re.finditer(pattern, form_text, re.DOTALL))\n",
    "\n",
    "def get_form_items(form_text, form_type):\n",
    "    \"\"\"Extracts the item header and its corresponding text for every item within a form's plaintext.\n",
    "    \n",
    "    :type form_text: str\n",
    "    :param form_text: The form plain text.\n",
    "    \n",
    "    :type form_type: str\n",
    "    :param form_type: The form type (e.g. 10-K, 10-Q, 8-K)\n",
    "    \n",
    "    :rtype: Iterator[(str, str)]\n",
    "    :returns: An iterator over tuples of the form (header, text) where \"header\" is the item header and \"text\" is the corresponding text.\n",
    "    \"\"\"\n",
    "    if form_type == \"10-Q\":\n",
    "        for part_header, part_text in extract_parts(form_text, form_type):\n",
    "            items = extract_items(part_header, part_text, form_type)\n",
    "            yield from items\n",
    "    elif form_type == \"8-K\"  or form_type == \"10-K\":\n",
    "        items = extract_items(\"\", form_text, form_type)\n",
    "        yield from items\n",
    "        \n",
    "def items_to_df_row(item_iter, columns, form_type):\n",
    "    \"\"\"Takes an iterator over tuples of the form (header, text) that is created from calling extract_items\n",
    "    and generates a row for a dataframe that has a column for each of the item types.\n",
    "    \n",
    "    :type item_iter: Iterator[(str, str, str)]\n",
    "    :param item_iter: An iterator over tuples of the form (part_header, item_header, item_text).\n",
    "    \n",
    "    :type columns: List[str]\n",
    "    :param columns: A list of column names for the dataframe we wish to generate a row for.\n",
    "    \n",
    "    :type form_type: str\n",
    "    :param form_type: The form type. Currently supported types include 10-K, 10-Q, 8-K.\n",
    "    \n",
    "    :rtype: List[str]\n",
    "    :returns: A row for the dataframe.\n",
    "    \"\"\"\n",
    "    mapping = {} # mapping between processed column names and their corresponding row index\n",
    "    for idx, col_name in enumerate(columns):\n",
    "        processed_col_name = col_name.lower()\n",
    "        mapping[processed_col_name] = idx\n",
    "        \n",
    "    returned_row = [\"\" for i in range(len(columns))]\n",
    "    for part_header, item_header, text in item_iter:\n",
    "        processed_header = (part_header.lower() + \" \" + item_header.lower()).strip()\n",
    "        if form_type == \"10-Q\":\n",
    "            processed_header = re.search(\"part [ivxlcdm]+ item \\d+[a-z]*\", processed_header).group(0)\n",
    "        elif form_type == \"10-K\":\n",
    "            processed_header = re.search(\"item \\d+[a-z]*\", processed_header).group(0)\n",
    "        elif form_type == \"8-K\":\n",
    "            if processed_header[-1] == \".\":\n",
    "                processed_header = processed_header[:-1] # Some companies will include a period at the end of the header while others don't        \n",
    "        if processed_header in mapping.keys():\n",
    "            row_index = mapping[processed_header]\n",
    "            returned_row[row_index] = text\n",
    "            \n",
    "    return returned_row\n",
    "\n",
    "columns_10K = [\"Item 1\", \"Item 1A\", \"Item 1B\", \"Item 2\", \"Item 3\", \"Item 4\",\n",
    "           \"Item 5\", \"Item 6\", \"Item 7\", \"Item 7A\", \"Item 8\", \"Item 9\",\n",
    "           \"Item 9A\", \"Item 9B\", \"Item 10\", \"Item 11\", \"Item 12\", \"Item 13\",\n",
    "           \"Item 14\", \"Item 15\"]\n",
    "\n",
    "columns_10Q = [\"Part I Item 1\", \"Part I Item 2\", \"Part I Item 3\", \"Part I Item 4\",\n",
    "               \"Part II Item 1\", \"Part II Item 1A\", \"Part II Item 2\", \"Part II Item 3\",\n",
    "               \"Part II Item 4\", \"Part II Item 5\", \"Part II Item 6\"]\n",
    "\n",
    "columns_8K = [\"Item 1.01\", \"Item 1.02\", \"Item 1.03\", \"Item 1.04\",\n",
    "             \"Item 2.01\", \"Item 2.02\", \"Item 2.03\", \"Item 2.04\", \"Item 2.05\", \"Item 2.06\",\n",
    "             \"Item 3.01\", \"Item 3.02\", \"Item 3.03\",\n",
    "             \"Item 4.01\", \"Item 4.02\",\n",
    "             \"Item 5.01\", \"Item 5.02\", \"Item 5.03\", \"Item 5.04\", \"Item 5.05\", \"Item 5.06\", \"Item 5.07\", \"Item 5.08\",\n",
    "             \"Item 6.01\", \"Item 6.02\", \"Item 6.03\", \"Item 6.04\", \"Item 6.05\",\n",
    "             \"Item 7.01\",\n",
    "             \"Item 8.01\",\n",
    "             \"Item 9.01\"]\n",
    "\n",
    "header_mappings_10K = {\n",
    "    \"Item 1\": \"Business\",\n",
    "    \"Item 1A\": \"Risk Factors\",\n",
    "    \"Item 1B\": \"Unresolved Staff Comments\",\n",
    "    \"Item 2\": \"Properties\",\n",
    "    \"Item 3\": \"Legal Proceedings\",\n",
    "    \"Item 4\": \"Mine Safety Disclosures\",\n",
    "    \"Item 5\": \"Market for Registrant’s Common Equity, Related Stockholder Matters and Issuer Purchases of Equity Securities\",\n",
    "    \"Item 6\": \"Selected Financial Data\",\n",
    "    \"Item 7\": \"Management’s Discussion and Analysis of Financial Condition and Results of Operations\",\n",
    "    \"Item 7A\": \"Quantitative and Qualitative Disclosures about Market Risk\",\n",
    "    \"Item 8\": \"Financial Statements and Supplementary Data\",\n",
    "    \"Item 9\": \"Changes in and Disagreements with Accountants on Accounting and Financial Disclosure\",\n",
    "    \"Item 9A\": \"Controls and Procedures\",\n",
    "    \"Item 9B\": \"Other Information\",\n",
    "    \"Item 10\": \"Directors, Executive Officers and Corporate Governance\",\n",
    "    \"Item 11\": \"Executive Compensation\",\n",
    "    \"Item 12\": \"Security Ownership of Certain Beneficial Owners and Management and Related Stockholder Matters\",\n",
    "    \"Item 13\": \"Certain Relationships and Related Transactions, and Director Independence\",\n",
    "    \"Item 14\": \"Principal Accountant Fees and Services\",\n",
    "    \"Item 15\": \"Exhibits, Financial Statement Schedules\"\n",
    "}\n",
    "\n",
    "header_mappings_10Q = {\n",
    "    \"Part I Item 1\": \"Financial Statements\",\n",
    "    \"Part I Item 2\": \"Management’s Discussion and Analysis of Financial Condition and Results of Operations\",\n",
    "    \"Part I Item 3\": \"Quantitative and Qualitative Disclosures About Market Risk\",\n",
    "    \"Part I Item 4\": \"Controls and Procedures\",\n",
    "    \"Part II Item 1\": \"Legal Proceedings\",\n",
    "    \"Part II Item 1A\": \"Risk Factors\",\n",
    "    \"Part II Item 2\": \"Unregistered Sales of Equity Securities and Use of Proceeds\",\n",
    "    \"Part II Item 3\": \"Defaults Upon Senior Securities\",\n",
    "    \"Part II Item 4\": \"Mine Safety Disclosures\",\n",
    "    \"Part II Item 5\": \"Other Information\",\n",
    "    \"Part II Item 6\": \"Exhibits\"\n",
    "}\n",
    "\n",
    "header_mappings_8K = {\n",
    "    \"Item 1.01\": \"Entry into a Material Definitive Agreement\",\n",
    "    \"Item 1.02\": \"Termination of a Material Definitive Agreement\",\n",
    "    \"Item 1.03\": \"Bankruptcy or Receivership\",\n",
    "    \"Item 1.04\": \"Mine Safety - Reporting of Shutdowns and Patterns of Violations\",\n",
    "    \"Item 2.01\": \"Completion of Acquisition or Disposition of Assets\",\n",
    "    \"Item 2.02\": \"Results of Operations and Financial Condition\",\n",
    "    \"Item 2.03\": \"Creation of a Direct Financial Obligation or an Obligation under an Off-Balance Sheet Arrangement of a Registrant\",\n",
    "    \"Item 2.04\": \"Triggering Events That Accelerate or Increase a Direct Financial Obligation or an Obligation under an Off-Balance Sheet Arrangement\",\n",
    "    \"Item 2.05\": \"Costs Associated with Exit or Disposal Activities\",\n",
    "    \"Item 2.06\": \"Material Impairments\",\n",
    "    \"Item 3.01\": \"Notice of Delisting or Failure to Satisfy a Continued Listing Rule or Standard; Transfer of Listing\",\n",
    "    \"Item 3.02\": \"Unregistered Sales of Equity Securities\",\n",
    "    \"Item 3.03\": \"Material Modification to Rights of Security Holders\",\n",
    "    \"Item 4.01\": \"Changes in Registrant's Certifying Accountant\",\n",
    "    \"Item 4.02\": \"Non-Reliance on Previously Issued Financial Statements or a Related Audit Report or Completed Interim Review\",\n",
    "    \"Item 5.01\": \"Changes in Control of Registrant\",\n",
    "    \"Item 5.02\": \"Departure of Directors or Certain Officers; Election of Directors; Appointment of Certain Officers; Compensatory Arrangements of Certain Officers\",\n",
    "    \"Item 5.03\": \"Amendments to Articles of Incorporation or Bylaws; Change in Fiscal Year\",\n",
    "    \"Item 5.04\": \"Temporary Suspension of Trading Under Registrant's Employee Benefit Plans\",\n",
    "    \"Item 5.05\": \"Amendment to Registrant's Code of Ethics, or Waiver of a Provision of the Code of Ethics\",\n",
    "    \"Item 5.06\": \"Change in Shell Company Status\",\n",
    "    \"Item 5.07\": \"Submission of Matters to a Vote of Security Holders\",\n",
    "    \"Item 5.08\": \"Shareholder Director Nominations\",\n",
    "    \"Item 6.01\": \"ABS Informational and Computational Material\",\n",
    "    \"Item 6.02\": \"Change of Servicer or Trustee\",\n",
    "    \"Item 6.03\": \"Change in Credit Enhancement or Other External Support\",\n",
    "    \"Item 6.04\": \"Failure to Make a Required Distribution\",\n",
    "    \"Item 6.05\": \"Securities Act Updating Disclosure\",\n",
    "    \"Item 7.01\": \"Regulation FD Disclosure\",\n",
    "    \"Item 8.01\": \"Other Events\",\n",
    "    \"Item 9.01\": \"Financial Statements and Exhibits\"\n",
    "}\n",
    "\n",
    "def process_filings(dataframe, form_type):\n",
    "    if form_type=='10-K':\n",
    "            columns = columns_10K\n",
    "            header_mappings = header_mappings_10K\n",
    "    elif form_type=='10-Q':\n",
    "            columns = columns_10Q\n",
    "            header_mappings = header_mappings_10Q\n",
    "    elif form_type=='8-K':\n",
    "            columns = columns_8K\n",
    "            header_mappings = header_mappings_8K\n",
    "    else:\n",
    "            print('Unsupported filing type')\n",
    "            return None\n",
    "        \n",
    "    df = dataframe[dataframe.form_type == form_type]\n",
    "    items = pd.DataFrame(columns = columns, dtype=object)\n",
    "    for i in df.index:\n",
    "        form_text = df.text[i]\n",
    "        df.loc[i, 'text'] = np.nan\n",
    "        item_iter = get_form_items(form_text, form_type)\n",
    "        items.loc[i] = items_to_df_row(item_iter, columns, form_type)\n",
    "    items.rename(columns=header_mappings, inplace=True)\n",
    "    df = pd.merge(df, items, left_index=True, right_index=True)\n",
    "    return df"
   ]
  },
  {
   "cell_type": "code",
   "execution_count": 10,
   "id": "3237e42d",
   "metadata": {},
   "outputs": [],
   "source": [
    "df['text'].isna().sum()\n",
    "df.text = df.text.fillna('')"
   ]
  },
  {
   "cell_type": "code",
   "execution_count": 11,
   "id": "ad252059-951e-49f1-8f79-4626419db0e1",
   "metadata": {},
   "outputs": [],
   "source": [
    "df = process_filings(df,'10-Q')"
   ]
  },
  {
   "cell_type": "code",
   "execution_count": 12,
   "id": "b2d32453",
   "metadata": {},
   "outputs": [
    {
     "data": {
      "text/html": [
       "<div>\n",
       "<style scoped>\n",
       "    .dataframe tbody tr th:only-of-type {\n",
       "        vertical-align: middle;\n",
       "    }\n",
       "\n",
       "    .dataframe tbody tr th {\n",
       "        vertical-align: top;\n",
       "    }\n",
       "\n",
       "    .dataframe thead th {\n",
       "        text-align: right;\n",
       "    }\n",
       "</style>\n",
       "<table border=\"1\" class=\"dataframe\">\n",
       "  <thead>\n",
       "    <tr style=\"text-align: right;\">\n",
       "      <th></th>\n",
       "      <th>Unnamed: 0</th>\n",
       "      <th>symbol</th>\n",
       "      <th>cik</th>\n",
       "      <th>form_type</th>\n",
       "      <th>access_number</th>\n",
       "      <th>filed_date</th>\n",
       "      <th>report_url</th>\n",
       "      <th>filing_url</th>\n",
       "      <th>Y_Q</th>\n",
       "      <th>sic</th>\n",
       "      <th>...</th>\n",
       "      <th>Management’s Discussion and Analysis of Financial Condition and Results of Operations</th>\n",
       "      <th>Quantitative and Qualitative Disclosures About Market Risk</th>\n",
       "      <th>Controls and Procedures</th>\n",
       "      <th>Legal Proceedings</th>\n",
       "      <th>Risk Factors</th>\n",
       "      <th>Unregistered Sales of Equity Securities and Use of Proceeds</th>\n",
       "      <th>Defaults Upon Senior Securities</th>\n",
       "      <th>Mine Safety Disclosures</th>\n",
       "      <th>Other Information</th>\n",
       "      <th>Exhibits</th>\n",
       "    </tr>\n",
       "  </thead>\n",
       "  <tbody>\n",
       "    <tr>\n",
       "      <th>0</th>\n",
       "      <td>1</td>\n",
       "      <td>UNP</td>\n",
       "      <td>100885</td>\n",
       "      <td>10-Q</td>\n",
       "      <td>0000100885-96-000006</td>\n",
       "      <td>1996-05-15</td>\n",
       "      <td>https://www.sec.gov/Archives/edgar/data/100885...</td>\n",
       "      <td>https://www.sec.gov/Archives/edgar/data/100885...</td>\n",
       "      <td>1996.QTR2</td>\n",
       "      <td>4011</td>\n",
       "      <td>...</td>\n",
       "      <td>UNION PACIFIC CORPORATION AND SUBSIDIARY COMPA...</td>\n",
       "      <td></td>\n",
       "      <td></td>\n",
       "      <td>(a) The annual meeting of stockholders of the ...</td>\n",
       "      <td></td>\n",
       "      <td></td>\n",
       "      <td></td>\n",
       "      <td></td>\n",
       "      <td></td>\n",
       "      <td>(a) Exhibits\\n\\n 3 - Union Pacific's Revised A...</td>\n",
       "    </tr>\n",
       "    <tr>\n",
       "      <th>1</th>\n",
       "      <td>2</td>\n",
       "      <td>UNP</td>\n",
       "      <td>100885</td>\n",
       "      <td>10-Q</td>\n",
       "      <td>0000100885-96-000008</td>\n",
       "      <td>1996-08-09</td>\n",
       "      <td>https://www.sec.gov/Archives/edgar/data/100885...</td>\n",
       "      <td>https://www.sec.gov/Archives/edgar/data/100885...</td>\n",
       "      <td>1996.QTR3</td>\n",
       "      <td>4011</td>\n",
       "      <td>...</td>\n",
       "      <td>UNION PACIFIC CORPORATION AND SUBSIDIARY COMPA...</td>\n",
       "      <td></td>\n",
       "      <td></td>\n",
       "      <td>The obligations of UP and certain of its affil...</td>\n",
       "      <td></td>\n",
       "      <td></td>\n",
       "      <td></td>\n",
       "      <td></td>\n",
       "      <td></td>\n",
       "      <td>(a) Exhibits\\n \\n 2 - Amended and Restated Agr...</td>\n",
       "    </tr>\n",
       "    <tr>\n",
       "      <th>2</th>\n",
       "      <td>3</td>\n",
       "      <td>UNP</td>\n",
       "      <td>100885</td>\n",
       "      <td>10-Q</td>\n",
       "      <td>0000100885-96-000020</td>\n",
       "      <td>1996-11-13</td>\n",
       "      <td>https://www.sec.gov/Archives/edgar/data/100885...</td>\n",
       "      <td>https://www.sec.gov/Archives/edgar/data/100885...</td>\n",
       "      <td>1996.QTR4</td>\n",
       "      <td>4011</td>\n",
       "      <td>...</td>\n",
       "      <td></td>\n",
       "      <td></td>\n",
       "      <td></td>\n",
       "      <td>Southern Pacific Acquisition: As previously re...</td>\n",
       "      <td></td>\n",
       "      <td></td>\n",
       "      <td></td>\n",
       "      <td></td>\n",
       "      <td></td>\n",
       "      <td>3 - By-laws of Union Pacific Corporation, as a...</td>\n",
       "    </tr>\n",
       "    <tr>\n",
       "      <th>3</th>\n",
       "      <td>5</td>\n",
       "      <td>UNP</td>\n",
       "      <td>100885</td>\n",
       "      <td>10-Q</td>\n",
       "      <td>0000100885-97-000003</td>\n",
       "      <td>1997-05-13</td>\n",
       "      <td>https://www.sec.gov/Archives/edgar/data/100885...</td>\n",
       "      <td>https://www.sec.gov/Archives/edgar/data/100885...</td>\n",
       "      <td>1997.QTR2</td>\n",
       "      <td>4011</td>\n",
       "      <td>...</td>\n",
       "      <td>UNION PACIFIC CORPORATION AND SUBSIDIARY COMPA...</td>\n",
       "      <td></td>\n",
       "      <td></td>\n",
       "      <td></td>\n",
       "      <td></td>\n",
       "      <td></td>\n",
       "      <td></td>\n",
       "      <td>(a) The annual meeting of stockholders of the ...</td>\n",
       "      <td></td>\n",
       "      <td>(a) Exhibits\\n\\n 10 - Amendments to the 1982 S...</td>\n",
       "    </tr>\n",
       "    <tr>\n",
       "      <th>4</th>\n",
       "      <td>6</td>\n",
       "      <td>UNP</td>\n",
       "      <td>100885</td>\n",
       "      <td>10-Q</td>\n",
       "      <td>0000100885-97-000005</td>\n",
       "      <td>1997-08-05</td>\n",
       "      <td>https://www.sec.gov/Archives/edgar/data/100885...</td>\n",
       "      <td>https://www.sec.gov/Archives/edgar/data/100885...</td>\n",
       "      <td>1997.QTR3</td>\n",
       "      <td>4011</td>\n",
       "      <td>...</td>\n",
       "      <td>UNION PACIFIC CORPORATION AND SUBSIDIARY COMPA...</td>\n",
       "      <td></td>\n",
       "      <td></td>\n",
       "      <td>On May 7, 1997, the STB served a decision comm...</td>\n",
       "      <td></td>\n",
       "      <td></td>\n",
       "      <td></td>\n",
       "      <td></td>\n",
       "      <td></td>\n",
       "      <td>(a) Exhibits\\n\\n11 - Computation of earnings p...</td>\n",
       "    </tr>\n",
       "    <tr>\n",
       "      <th>...</th>\n",
       "      <td>...</td>\n",
       "      <td>...</td>\n",
       "      <td>...</td>\n",
       "      <td>...</td>\n",
       "      <td>...</td>\n",
       "      <td>...</td>\n",
       "      <td>...</td>\n",
       "      <td>...</td>\n",
       "      <td>...</td>\n",
       "      <td>...</td>\n",
       "      <td>...</td>\n",
       "      <td>...</td>\n",
       "      <td>...</td>\n",
       "      <td>...</td>\n",
       "      <td>...</td>\n",
       "      <td>...</td>\n",
       "      <td>...</td>\n",
       "      <td>...</td>\n",
       "      <td>...</td>\n",
       "      <td>...</td>\n",
       "      <td>...</td>\n",
       "    </tr>\n",
       "    <tr>\n",
       "      <th>28479</th>\n",
       "      <td>40061</td>\n",
       "      <td>POOL</td>\n",
       "      <td>945841</td>\n",
       "      <td>10-Q</td>\n",
       "      <td>0000945841-21-000141</td>\n",
       "      <td>2021-07-29</td>\n",
       "      <td>https://www.sec.gov/ix?doc=/Archives/edgar/dat...</td>\n",
       "      <td>https://www.sec.gov/Archives/edgar/data/945841...</td>\n",
       "      <td>2021.QTR3</td>\n",
       "      <td>5090</td>\n",
       "      <td>...</td>\n",
       "      <td>OVERVIEW \\n \\n Impact of the COVID-19 Pandemic...</td>\n",
       "      <td>Item 4. Controls and Procedures \\n The term di...</td>\n",
       "      <td></td>\n",
       "      <td>Item 1A. Risk Factors \\n There have been no ma...</td>\n",
       "      <td></td>\n",
       "      <td>Item 6. Exhibits \\n \\n Exhibits filed as part ...</td>\n",
       "      <td></td>\n",
       "      <td></td>\n",
       "      <td></td>\n",
       "      <td></td>\n",
       "    </tr>\n",
       "    <tr>\n",
       "      <th>28480</th>\n",
       "      <td>40062</td>\n",
       "      <td>POOL</td>\n",
       "      <td>945841</td>\n",
       "      <td>10-Q</td>\n",
       "      <td>0000945841-21-000178</td>\n",
       "      <td>2021-10-28</td>\n",
       "      <td>https://www.sec.gov/ix?doc=/Archives/edgar/dat...</td>\n",
       "      <td>https://www.sec.gov/Archives/edgar/data/945841...</td>\n",
       "      <td>2021.QTR4</td>\n",
       "      <td>5090</td>\n",
       "      <td>...</td>\n",
       "      <td>OVERVIEW \\n \\n Impact of the COVID-19 Pandemic...</td>\n",
       "      <td>Item 4. Controls and Procedures \\n The term di...</td>\n",
       "      <td></td>\n",
       "      <td>Item 1A. Risk Factors \\n There have been no ma...</td>\n",
       "      <td></td>\n",
       "      <td>Item 6. Exhibits \\n \\n Exhibits filed as part ...</td>\n",
       "      <td></td>\n",
       "      <td></td>\n",
       "      <td></td>\n",
       "      <td></td>\n",
       "    </tr>\n",
       "    <tr>\n",
       "      <th>28481</th>\n",
       "      <td>40063</td>\n",
       "      <td>APA</td>\n",
       "      <td>1841666</td>\n",
       "      <td>10-Q</td>\n",
       "      <td>0001673379-21-000012</td>\n",
       "      <td>2021-05-07</td>\n",
       "      <td>https://www.sec.gov/ix?doc=/Archives/edgar/dat...</td>\n",
       "      <td>https://www.sec.gov/Archives/edgar/data/184166...</td>\n",
       "      <td>2021.QTR2</td>\n",
       "      <td>1311</td>\n",
       "      <td>...</td>\n",
       "      <td>Operational Highlights \\n Key operational high...</td>\n",
       "      <td></td>\n",
       "      <td></td>\n",
       "      <td></td>\n",
       "      <td></td>\n",
       "      <td></td>\n",
       "      <td></td>\n",
       "      <td></td>\n",
       "      <td></td>\n",
       "      <td>SIGNATURES \\n Pursuant to the requirements of ...</td>\n",
       "    </tr>\n",
       "    <tr>\n",
       "      <th>28482</th>\n",
       "      <td>40064</td>\n",
       "      <td>APA</td>\n",
       "      <td>1841666</td>\n",
       "      <td>10-Q</td>\n",
       "      <td>0001871133-21-000007</td>\n",
       "      <td>2021-08-05</td>\n",
       "      <td>https://www.sec.gov/ix?doc=/Archives/edgar/dat...</td>\n",
       "      <td>https://www.sec.gov/Archives/edgar/data/184166...</td>\n",
       "      <td>2021.QTR3</td>\n",
       "      <td>1311</td>\n",
       "      <td>...</td>\n",
       "      <td>Operational Highlights \\n Key operational high...</td>\n",
       "      <td>Foreign currency gains and losses also arise w...</td>\n",
       "      <td></td>\n",
       "      <td></td>\n",
       "      <td></td>\n",
       "      <td></td>\n",
       "      <td></td>\n",
       "      <td></td>\n",
       "      <td></td>\n",
       "      <td>SIGNATURES \\n Pursuant to the requirements of ...</td>\n",
       "    </tr>\n",
       "    <tr>\n",
       "      <th>28483</th>\n",
       "      <td>40065</td>\n",
       "      <td>APA</td>\n",
       "      <td>1841666</td>\n",
       "      <td>10-Q</td>\n",
       "      <td>0001673379-21-000029</td>\n",
       "      <td>2021-11-05</td>\n",
       "      <td>https://www.sec.gov/ix?doc=/Archives/edgar/dat...</td>\n",
       "      <td>https://www.sec.gov/Archives/edgar/data/184166...</td>\n",
       "      <td>2021.QTR4</td>\n",
       "      <td>1311</td>\n",
       "      <td>...</td>\n",
       "      <td>Following this progress and considering the on...</td>\n",
       "      <td>Foreign currency gains and losses also arise w...</td>\n",
       "      <td></td>\n",
       "      <td></td>\n",
       "      <td></td>\n",
       "      <td></td>\n",
       "      <td></td>\n",
       "      <td></td>\n",
       "      <td></td>\n",
       "      <td>SIGNATURES \\n Pursuant to the requirements of ...</td>\n",
       "    </tr>\n",
       "  </tbody>\n",
       "</table>\n",
       "<p>28481 rows × 27 columns</p>\n",
       "</div>"
      ],
      "text/plain": [
       "       Unnamed: 0 symbol      cik form_type         access_number  filed_date  \\\n",
       "0               1    UNP   100885      10-Q  0000100885-96-000006  1996-05-15   \n",
       "1               2    UNP   100885      10-Q  0000100885-96-000008  1996-08-09   \n",
       "2               3    UNP   100885      10-Q  0000100885-96-000020  1996-11-13   \n",
       "3               5    UNP   100885      10-Q  0000100885-97-000003  1997-05-13   \n",
       "4               6    UNP   100885      10-Q  0000100885-97-000005  1997-08-05   \n",
       "...           ...    ...      ...       ...                   ...         ...   \n",
       "28479       40061   POOL   945841      10-Q  0000945841-21-000141  2021-07-29   \n",
       "28480       40062   POOL   945841      10-Q  0000945841-21-000178  2021-10-28   \n",
       "28481       40063    APA  1841666      10-Q  0001673379-21-000012  2021-05-07   \n",
       "28482       40064    APA  1841666      10-Q  0001871133-21-000007  2021-08-05   \n",
       "28483       40065    APA  1841666      10-Q  0001673379-21-000029  2021-11-05   \n",
       "\n",
       "                                              report_url  \\\n",
       "0      https://www.sec.gov/Archives/edgar/data/100885...   \n",
       "1      https://www.sec.gov/Archives/edgar/data/100885...   \n",
       "2      https://www.sec.gov/Archives/edgar/data/100885...   \n",
       "3      https://www.sec.gov/Archives/edgar/data/100885...   \n",
       "4      https://www.sec.gov/Archives/edgar/data/100885...   \n",
       "...                                                  ...   \n",
       "28479  https://www.sec.gov/ix?doc=/Archives/edgar/dat...   \n",
       "28480  https://www.sec.gov/ix?doc=/Archives/edgar/dat...   \n",
       "28481  https://www.sec.gov/ix?doc=/Archives/edgar/dat...   \n",
       "28482  https://www.sec.gov/ix?doc=/Archives/edgar/dat...   \n",
       "28483  https://www.sec.gov/ix?doc=/Archives/edgar/dat...   \n",
       "\n",
       "                                              filing_url        Y_Q   sic  \\\n",
       "0      https://www.sec.gov/Archives/edgar/data/100885...  1996.QTR2  4011   \n",
       "1      https://www.sec.gov/Archives/edgar/data/100885...  1996.QTR3  4011   \n",
       "2      https://www.sec.gov/Archives/edgar/data/100885...  1996.QTR4  4011   \n",
       "3      https://www.sec.gov/Archives/edgar/data/100885...  1997.QTR2  4011   \n",
       "4      https://www.sec.gov/Archives/edgar/data/100885...  1997.QTR3  4011   \n",
       "...                                                  ...        ...   ...   \n",
       "28479  https://www.sec.gov/Archives/edgar/data/945841...  2021.QTR3  5090   \n",
       "28480  https://www.sec.gov/Archives/edgar/data/945841...  2021.QTR4  5090   \n",
       "28481  https://www.sec.gov/Archives/edgar/data/184166...  2021.QTR2  1311   \n",
       "28482  https://www.sec.gov/Archives/edgar/data/184166...  2021.QTR3  1311   \n",
       "28483  https://www.sec.gov/Archives/edgar/data/184166...  2021.QTR4  1311   \n",
       "\n",
       "       ...  \\\n",
       "0      ...   \n",
       "1      ...   \n",
       "2      ...   \n",
       "3      ...   \n",
       "4      ...   \n",
       "...    ...   \n",
       "28479  ...   \n",
       "28480  ...   \n",
       "28481  ...   \n",
       "28482  ...   \n",
       "28483  ...   \n",
       "\n",
       "       Management’s Discussion and Analysis of Financial Condition and Results of Operations  \\\n",
       "0      UNION PACIFIC CORPORATION AND SUBSIDIARY COMPA...                                       \n",
       "1      UNION PACIFIC CORPORATION AND SUBSIDIARY COMPA...                                       \n",
       "2                                                                                              \n",
       "3      UNION PACIFIC CORPORATION AND SUBSIDIARY COMPA...                                       \n",
       "4      UNION PACIFIC CORPORATION AND SUBSIDIARY COMPA...                                       \n",
       "...                                                  ...                                       \n",
       "28479  OVERVIEW \\n \\n Impact of the COVID-19 Pandemic...                                       \n",
       "28480  OVERVIEW \\n \\n Impact of the COVID-19 Pandemic...                                       \n",
       "28481  Operational Highlights \\n Key operational high...                                       \n",
       "28482  Operational Highlights \\n Key operational high...                                       \n",
       "28483  Following this progress and considering the on...                                       \n",
       "\n",
       "      Quantitative and Qualitative Disclosures About Market Risk  \\\n",
       "0                                                                  \n",
       "1                                                                  \n",
       "2                                                                  \n",
       "3                                                                  \n",
       "4                                                                  \n",
       "...                                                  ...           \n",
       "28479  Item 4. Controls and Procedures \\n The term di...           \n",
       "28480  Item 4. Controls and Procedures \\n The term di...           \n",
       "28481                                                              \n",
       "28482  Foreign currency gains and losses also arise w...           \n",
       "28483  Foreign currency gains and losses also arise w...           \n",
       "\n",
       "      Controls and Procedures  \\\n",
       "0                               \n",
       "1                               \n",
       "2                               \n",
       "3                               \n",
       "4                               \n",
       "...                       ...   \n",
       "28479                           \n",
       "28480                           \n",
       "28481                           \n",
       "28482                           \n",
       "28483                           \n",
       "\n",
       "                                       Legal Proceedings Risk Factors  \\\n",
       "0      (a) The annual meeting of stockholders of the ...                \n",
       "1      The obligations of UP and certain of its affil...                \n",
       "2      Southern Pacific Acquisition: As previously re...                \n",
       "3                                                                       \n",
       "4      On May 7, 1997, the STB served a decision comm...                \n",
       "...                                                  ...          ...   \n",
       "28479  Item 1A. Risk Factors \\n There have been no ma...                \n",
       "28480  Item 1A. Risk Factors \\n There have been no ma...                \n",
       "28481                                                                   \n",
       "28482                                                                   \n",
       "28483                                                                   \n",
       "\n",
       "      Unregistered Sales of Equity Securities and Use of Proceeds  \\\n",
       "0                                                                   \n",
       "1                                                                   \n",
       "2                                                                   \n",
       "3                                                                   \n",
       "4                                                                   \n",
       "...                                                  ...            \n",
       "28479  Item 6. Exhibits \\n \\n Exhibits filed as part ...            \n",
       "28480  Item 6. Exhibits \\n \\n Exhibits filed as part ...            \n",
       "28481                                                               \n",
       "28482                                                               \n",
       "28483                                                               \n",
       "\n",
       "      Defaults Upon Senior Securities  \\\n",
       "0                                       \n",
       "1                                       \n",
       "2                                       \n",
       "3                                       \n",
       "4                                       \n",
       "...                               ...   \n",
       "28479                                   \n",
       "28480                                   \n",
       "28481                                   \n",
       "28482                                   \n",
       "28483                                   \n",
       "\n",
       "                                 Mine Safety Disclosures Other Information  \\\n",
       "0                                                                            \n",
       "1                                                                            \n",
       "2                                                                            \n",
       "3      (a) The annual meeting of stockholders of the ...                     \n",
       "4                                                                            \n",
       "...                                                  ...               ...   \n",
       "28479                                                                        \n",
       "28480                                                                        \n",
       "28481                                                                        \n",
       "28482                                                                        \n",
       "28483                                                                        \n",
       "\n",
       "                                                Exhibits  \n",
       "0      (a) Exhibits\\n\\n 3 - Union Pacific's Revised A...  \n",
       "1      (a) Exhibits\\n \\n 2 - Amended and Restated Agr...  \n",
       "2      3 - By-laws of Union Pacific Corporation, as a...  \n",
       "3      (a) Exhibits\\n\\n 10 - Amendments to the 1982 S...  \n",
       "4      (a) Exhibits\\n\\n11 - Computation of earnings p...  \n",
       "...                                                  ...  \n",
       "28479                                                     \n",
       "28480                                                     \n",
       "28481  SIGNATURES \\n Pursuant to the requirements of ...  \n",
       "28482  SIGNATURES \\n Pursuant to the requirements of ...  \n",
       "28483  SIGNATURES \\n Pursuant to the requirements of ...  \n",
       "\n",
       "[28481 rows x 27 columns]"
      ]
     },
     "execution_count": 12,
     "metadata": {},
     "output_type": "execute_result"
    }
   ],
   "source": []
  },
  {
   "cell_type": "code",
   "execution_count": 13,
   "id": "703287d6-4807-4c0a-a9a2-f9c2bbb35c15",
   "metadata": {},
   "outputs": [
    {
     "name": "stderr",
     "output_type": "stream",
     "text": [
      "C:\\Users\\marti\\AppData\\Local\\Temp\\ipykernel_6072\\1303001910.py:1: FutureWarning: In a future version of pandas all arguments of DataFrame.drop except for the argument 'labels' will be keyword-only.\n",
      "  df = df.drop('text', 1)\n"
     ]
    }
   ],
   "source": [
    "df = df.drop('text', 1)"
   ]
  },
  {
   "cell_type": "code",
   "execution_count": 14,
   "id": "d4945154",
   "metadata": {},
   "outputs": [],
   "source": [
    "df.to_csv(\"D:\\\\THOMAS THESIS\\\\DATA\\\\10KQ SPLIT\\\\10Q_split.csv\")  "
   ]
  },
  {
   "cell_type": "code",
   "execution_count": 15,
   "id": "93bbf501",
   "metadata": {},
   "outputs": [
    {
     "name": "stdout",
     "output_type": "stream",
     "text": [
      "Unnamed: 0 0.0\n",
      "symbol 0.0\n",
      "cik 0.0\n",
      "form_type 0.0\n",
      "access_number 0.0\n",
      "filed_date 0.0\n",
      "report_url 0.0\n",
      "filing_url 0.0\n",
      "Y_Q 0.0\n",
      "sic 0.0\n",
      "permno 0.0\n",
      "date 0.0\n",
      "Lookup_Value 0.0\n",
      "Year 0.0\n",
      "Quarter 0.0\n",
      "Financial Statements 47.29819879919946\n",
      "Management’s Discussion and Analysis of Financial Condition and Results of Operations 35.24454899757733\n",
      "Quantitative and Qualitative Disclosures About Market Risk 51.01997823110144\n",
      "Controls and Procedures 62.45567220252099\n",
      "Legal Proceedings 39.54566202029423\n",
      "Risk Factors 74.44963308872582\n",
      "Unregistered Sales of Equity Securities and Use of Proceeds 47.04188757417225\n",
      "Defaults Upon Senior Securities 78.04150135177838\n",
      "Mine Safety Disclosures 69.58323092588041\n",
      "Other Information 79.25283522348232\n",
      "Exhibits 29.911168849408377\n"
     ]
    }
   ],
   "source": [
    "pd.set_option('display.max_columns', None)\n",
    "\n",
    "for column in df:\n",
    "    x = df.loc[df[column] == ''].count().iloc[0]\n",
    "    print(column + ' ' + str(((x/len(df))*100)))\n",
    "     "
   ]
  },
  {
   "cell_type": "code",
   "execution_count": null,
   "id": "5c3600e0-5d0c-4ab6-8361-9f88b1e29302",
   "metadata": {},
   "outputs": [],
   "source": []
  },
  {
   "cell_type": "code",
   "execution_count": null,
   "id": "f65d1930-f251-49c4-bb8e-fb6ba24b674f",
   "metadata": {},
   "outputs": [],
   "source": []
  },
  {
   "cell_type": "code",
   "execution_count": null,
   "id": "95eea6e6-9b73-41f4-a2f1-1be2b5e40808",
   "metadata": {},
   "outputs": [],
   "source": []
  },
  {
   "cell_type": "code",
   "execution_count": null,
   "id": "ae311125-c953-4138-b7bb-222ad6c13020",
   "metadata": {},
   "outputs": [],
   "source": []
  },
  {
   "cell_type": "code",
   "execution_count": null,
   "id": "43a31c5f-b5ae-4e2a-b9b5-3e1d7f8548d6",
   "metadata": {},
   "outputs": [],
   "source": []
  },
  {
   "cell_type": "code",
   "execution_count": null,
   "id": "3389a221-8fcc-4d6c-8b9c-17317176ac02",
   "metadata": {},
   "outputs": [],
   "source": []
  },
  {
   "cell_type": "code",
   "execution_count": null,
   "id": "6fb36dfc-0a45-4eea-8829-7ce82479b6ef",
   "metadata": {},
   "outputs": [],
   "source": []
  },
  {
   "cell_type": "code",
   "execution_count": null,
   "id": "d456e100-f048-4026-931d-bc0e55b012bc",
   "metadata": {},
   "outputs": [],
   "source": []
  },
  {
   "cell_type": "code",
   "execution_count": null,
   "id": "06b881b2-371f-463b-83a0-55c954ed61ac",
   "metadata": {},
   "outputs": [],
   "source": []
  },
  {
   "cell_type": "code",
   "execution_count": null,
   "id": "3ba4ea24-f6c7-46c7-8634-505263497fe4",
   "metadata": {},
   "outputs": [],
   "source": []
  },
  {
   "cell_type": "code",
   "execution_count": null,
   "id": "38de0de1-a8e0-475f-ba85-43fcc0bfb5fd",
   "metadata": {},
   "outputs": [],
   "source": []
  },
  {
   "cell_type": "code",
   "execution_count": null,
   "id": "93b1c467-2dfe-47b3-aae8-d0ca37f54def",
   "metadata": {},
   "outputs": [],
   "source": []
  }
 ],
 "metadata": {
  "kernelspec": {
   "display_name": "Python 3 (ipykernel)",
   "language": "python",
   "name": "python3"
  },
  "language_info": {
   "codemirror_mode": {
    "name": "ipython",
    "version": 3
   },
   "file_extension": ".py",
   "mimetype": "text/x-python",
   "name": "python",
   "nbconvert_exporter": "python",
   "pygments_lexer": "ipython3",
   "version": "3.9.7"
  }
 },
 "nbformat": 4,
 "nbformat_minor": 5
}
